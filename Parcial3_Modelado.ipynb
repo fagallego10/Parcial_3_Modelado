{
 "cells": [
  {
   "cell_type": "code",
   "execution_count": null,
   "metadata": {},
   "outputs": [],
   "source": [
    "import numpy as np\n",
    "import math\n",
    "from scipy.stats import gamma, uniform, loggamma\n",
    "import matplotlib.pyplot as plt"
   ]
  },
  {
   "cell_type": "code",
   "execution_count": null,
   "metadata": {},
   "outputs": [],
   "source": [
    "def ln_gamma(theta, lamda, nu):\n",
    "    dens_ln_gamma = (lamda-1)*log(theta) - theta*nu\n",
    "    return dens_ln_gamma"
   ]
  },
  {
   "cell_type": "code",
   "execution_count": null,
   "metadata": {},
   "outputs": [],
   "source": [
    "def mcmc(y, iterar, sigma, lamda_alpha, lamda_beta, nu_alpha, nu_beta):\n",
    "    \n",
    "    # 1. Número de observaciones\n",
    "    n = len(y)\n",
    "    \n",
    "    # 2. Suma de observaciones y suma del ln de las observaciones\n",
    "    suma_y = sum(y)\n",
    "    suma_ln_y = sum(log(y))\n",
    "    \n",
    "    # 3. Tabla de muestras: alpha - beta\n",
    "    param = np.zeros((ite, 2))\n",
    "    \n",
    "    # 4. Valores iniciales\n",
    "    alpha_cur = 1\n",
    "    beta_cur = 1\n",
    "    param[0,0] = alpha_cur\n",
    "    pram[0,1] = beta_cur\n",
    "    \n",
    "    # 5. MCMC\n",
    "    for i in range(iterar):\n",
    "        \n",
    "        # 6. Actualizar alpha: método MH\n",
    "        \n",
    "        # Nuevo valor propuesto de alfa: caminata gaussiana\n",
    "        alpha_an = np.random.normal(alpha_cur, sigma)\n",
    "        \n",
    "        if alpha_can > 0:\n",
    "            \n",
    "            # ln de la verosimilitud\n",
    "            ln_alpha_cur = n*alpha.cur*log(beta_cur) - n*loggamma.rvs(alpha_cur) + (alpha_cur-1)*suma_ln_y\n",
    "            ln_alpha_can = n*alpha.cur*log(beta_cur) - n*loggamma.rvs(alpha_cur) + (alpha_cur-1)*suma_ln_y\n",
    "            \n",
    "            # ln de las distribuciones previas (priors)\n",
    "            ln_prior_alpha_cur = ln_gamma(alpha_cur, lamda_alpha, nu_alpha)\n",
    "            ln_prior_alpha_can = ln_gamma(alpha_can, lamda_alpha, nu_alpha)\n",
    "            \n",
    "            #ln de la distribución posterior\n",
    "            ln_pi_cur = ln_lik_cur + ln_prior_alpha_cur\n",
    "            ln_pi_can = ln_lik_can + ln_prior_alpha_can\n",
    "            \n",
    "            # M-H ratio\n",
    "            # draw from a U(0,1)\n",
    "            u = np.random.uniform(1)\n",
    "            \n",
    "            if log(u) < ln_pi_can - ln_pi_cur:\n",
    "                alpha_cur = alpha_can        \n",
    "        \n",
    "        # 7. Actualiza beta    \n",
    "        beta_cur = gamma.rvs(alpha_cur*n + lamda_beta, scale = 1/(suma_y + nu_beta))\n",
    "    \n",
    "        # 8. Guarda las muestras\n",
    "        param[i,0] = alpha_cur\n",
    "        param[i,1] = beta_cur\n",
    "    \n",
    "    return param"
   ]
  },
  {
   "cell_type": "code",
   "execution_count": null,
   "metadata": {},
   "outputs": [],
   "source": [
    "data = CARGAR"
   ]
  },
  {
   "cell_type": "code",
   "execution_count": null,
   "metadata": {},
   "outputs": [],
   "source": [
    "parametros_sim = mcmc(y = data, iterar = 10000, sigma = 1, lamda_alpha = 1, lamda_beta = 1, nu_alpha = 1e-3, nu_beta = 1e-3)\n",
    "\n",
    "# trace plots to ensure that the chains mix well\n",
    "plt.plot(parametros_sim[:,0], type='l', title = 'alpha')\n",
    "plt.plot(parametros_sim[:,1], type='l', title = 'beta')"
   ]
  },
  {
   "cell_type": "code",
   "execution_count": null,
   "metadata": {},
   "outputs": [],
   "source": [
    "#draw histograms\n",
    "parametros_sim[:,0].hist(bins=100, figsize=(15,7), density= False)\n",
    "parametros_sim[:,1].hist(bins=100, figsize=(15,7), density= False)"
   ]
  }
 ],
 "metadata": {
  "kernelspec": {
   "display_name": "Python 3",
   "language": "python",
   "name": "python3"
  },
  "language_info": {
   "codemirror_mode": {
    "name": "ipython",
    "version": 3
   },
   "file_extension": ".py",
   "mimetype": "text/x-python",
   "name": "python",
   "nbconvert_exporter": "python",
   "pygments_lexer": "ipython3",
   "version": "3.7.4"
  }
 },
 "nbformat": 4,
 "nbformat_minor": 2
}
